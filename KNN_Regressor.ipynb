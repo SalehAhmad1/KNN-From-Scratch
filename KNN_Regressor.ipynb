{
 "cells": [
  {
   "cell_type": "code",
   "execution_count": null,
   "metadata": {},
   "outputs": [],
   "source": [
    "import numpy as np\n",
    "import pandas as pd"
   ]
  },
  {
   "cell_type": "code",
   "execution_count": null,
   "metadata": {},
   "outputs": [],
   "source": [
    "class KNearestNeighborRegressor:\n",
    "    def __init__(self, k, scalefeatures=False):        \n",
    "        self.k = k\n",
    "        self.scalefeatures = scalefeatures \n",
    "\n",
    "    def Compute_Distance_Matrix(self, X):\n",
    "        num_test = X.shape[0]\n",
    "        num_train = self.X_train.shape[0]\n",
    "        dists = np.zeros((num_test, num_train))\n",
    "        for i in range(num_test):\n",
    "            Sum = np.sum((X[i] - self.X_train)**2, axis=1)\n",
    "            dists[i,:] = Sum**0.5\n",
    "        return dists #Test examples at row and train examples at column\n",
    "\n",
    "    def scale_features(self,X):\n",
    "        self.xmin = np.min(X,axis=0)\n",
    "        self.xmax = np.max(X,axis=0)\n",
    "        Normalized_X = (X - self.xmin) / (self.xmax - self.xmin)\n",
    "        return Normalized_X\n",
    "\n",
    "    def train(self, X, Y):\n",
    "        if self.scalefeatures:\n",
    "            X = self.scale_features(X)\n",
    "        self.X_train = X\n",
    "        self.Y_train = Y\n",
    "    \n",
    "    def predict(self, X):\n",
    "        num_test = X.shape[0]\n",
    "    \n",
    "        if self.scalefeatures:\n",
    "            X = (X-self.xmin)/(self.xmax-self.xmin)\n",
    "        \n",
    "        dists = self.Compute_Distance_Matrix(X)\n",
    "\n",
    "        Ypred = np.zeros(num_test)\n",
    "        for i in range(num_test):\n",
    "            closest_y = []\n",
    "            closest_y = self.Y_train[np.argsort(dists[i])[:self.k]] #Sort the distances and take the first k elements\n",
    "            Ypred[i] = np.mean(closest_y) #Take the mean of the k elements\n",
    "        return Ypred"
   ]
  }
 ],
 "metadata": {
  "kernelspec": {
   "display_name": "Python 3.10.6 64-bit",
   "language": "python",
   "name": "python3"
  },
  "language_info": {
   "codemirror_mode": {
    "name": "ipython",
    "version": 3
   },
   "file_extension": ".py",
   "mimetype": "text/x-python",
   "name": "python",
   "nbconvert_exporter": "python",
   "pygments_lexer": "ipython3",
   "version": "3.10.6"
  },
  "vscode": {
   "interpreter": {
    "hash": "e7370f93d1d0cde622a1f8e1c04877d8463912d04d973331ad4851f04de6915a"
   }
  }
 },
 "nbformat": 4,
 "nbformat_minor": 1
}
